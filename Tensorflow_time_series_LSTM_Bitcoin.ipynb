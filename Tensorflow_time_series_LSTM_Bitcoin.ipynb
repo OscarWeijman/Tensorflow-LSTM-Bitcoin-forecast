{
  "nbformat": 4,
  "nbformat_minor": 0,
  "metadata": {
    "accelerator": "GPU",
    "colab": {
      "name": "Tensorflow_time_series_LSTM-Bitcoin.ipynb",
      "provenance": [],
      "collapsed_sections": [],
      "toc_visible": true,
      "include_colab_link": true
    },
    "kernelspec": {
      "display_name": "Python 3",
      "name": "python3"
    }
  },
  "cells": [
    {
      "cell_type": "markdown",
      "metadata": {
        "id": "view-in-github",
        "colab_type": "text"
      },
      "source": [
        "<a href=\"https://colab.research.google.com/github/davidlarcher/Tensorflow-LSTM-Bitcoin-forecast/blob/master/Tensorflow_time_series_LSTM_Bitcoin.ipynb\" target=\"_parent\"><img src=\"https://colab.research.google.com/assets/colab-badge.svg\" alt=\"Open In Colab\"/></a>"
      ]
    },
    {
      "cell_type": "code",
      "metadata": {
        "id": "zX4Kg8DUTKWO",
        "colab_type": "code",
        "colab": {}
      },
      "source": [
        "#@title Licensed under the Apache License, Version 2.0 (the \"License\");\n",
        "# you may not use this file except in compliance with the License.\n",
        "# You may obtain a copy of the License at\n",
        "#\n",
        "# https://www.apache.org/licenses/LICENSE-2.0\n",
        "#\n",
        "# Unless required by applicable law or agreed to in writing, software\n",
        "# distributed under the License is distributed on an \"AS IS\" BASIS,\n",
        "# WITHOUT WARRANTIES OR CONDITIONS OF ANY KIND, either express or implied.\n",
        "# See the License for the specific language governing permissions and\n",
        "# limitations under the License."
      ],
      "execution_count": 1,
      "outputs": []
    },
    {
      "cell_type": "code",
      "metadata": {
        "id": "LIdhdjyS-ydA",
        "colab_type": "code",
        "colab": {
          "base_uri": "https://localhost:8080/",
          "height": 425
        },
        "outputId": "7cc5f8ec-1287-415b-bbed-4a01797ff096"
      },
      "source": [
        "!pip install yfinance pytrends"
      ],
      "execution_count": 2,
      "outputs": [
        {
          "output_type": "stream",
          "text": [
            "Collecting yfinance\n",
            "  Downloading https://files.pythonhosted.org/packages/c2/31/8b374a12b90def92a4e27d0fc595fc43635f395984e36a075244d98bd265/yfinance-0.1.54.tar.gz\n",
            "Collecting pytrends\n",
            "  Downloading https://files.pythonhosted.org/packages/96/53/a4a74c33bfdbe1740183e00769377352072e64182913562daf9f5e4f1938/pytrends-4.7.3-py3-none-any.whl\n",
            "Requirement already satisfied: pandas>=0.24 in /usr/local/lib/python3.6/dist-packages (from yfinance) (1.0.5)\n",
            "Requirement already satisfied: numpy>=1.15 in /usr/local/lib/python3.6/dist-packages (from yfinance) (1.18.5)\n",
            "Requirement already satisfied: requests>=2.20 in /usr/local/lib/python3.6/dist-packages (from yfinance) (2.23.0)\n",
            "Requirement already satisfied: multitasking>=0.0.7 in /usr/local/lib/python3.6/dist-packages (from yfinance) (0.0.9)\n",
            "Requirement already satisfied: lxml in /usr/local/lib/python3.6/dist-packages (from pytrends) (4.2.6)\n",
            "Requirement already satisfied: pytz>=2017.2 in /usr/local/lib/python3.6/dist-packages (from pandas>=0.24->yfinance) (2018.9)\n",
            "Requirement already satisfied: python-dateutil>=2.6.1 in /usr/local/lib/python3.6/dist-packages (from pandas>=0.24->yfinance) (2.8.1)\n",
            "Requirement already satisfied: chardet<4,>=3.0.2 in /usr/local/lib/python3.6/dist-packages (from requests>=2.20->yfinance) (3.0.4)\n",
            "Requirement already satisfied: idna<3,>=2.5 in /usr/local/lib/python3.6/dist-packages (from requests>=2.20->yfinance) (2.10)\n",
            "Requirement already satisfied: certifi>=2017.4.17 in /usr/local/lib/python3.6/dist-packages (from requests>=2.20->yfinance) (2020.6.20)\n",
            "Requirement already satisfied: urllib3!=1.25.0,!=1.25.1,<1.26,>=1.21.1 in /usr/local/lib/python3.6/dist-packages (from requests>=2.20->yfinance) (1.24.3)\n",
            "Requirement already satisfied: six>=1.5 in /usr/local/lib/python3.6/dist-packages (from python-dateutil>=2.6.1->pandas>=0.24->yfinance) (1.15.0)\n",
            "Building wheels for collected packages: yfinance\n",
            "  Building wheel for yfinance (setup.py) ... \u001b[?25l\u001b[?25hdone\n",
            "  Created wheel for yfinance: filename=yfinance-0.1.54-py2.py3-none-any.whl size=22409 sha256=8512bce46e43c4087b3d15d65a4b107156d64af5ac620e223977880ecef7d66d\n",
            "  Stored in directory: /root/.cache/pip/wheels/f9/e3/5b/ec24dd2984b12d61e0abf26289746c2436a0e7844f26f2515c\n",
            "Successfully built yfinance\n",
            "Installing collected packages: yfinance, pytrends\n",
            "Successfully installed pytrends-4.7.3 yfinance-0.1.54\n"
          ],
          "name": "stdout"
        }
      ]
    },
    {
      "cell_type": "code",
      "metadata": {
        "id": "QOntsUTudmWT",
        "colab_type": "code",
        "colab": {
          "base_uri": "https://localhost:8080/",
          "height": 34
        },
        "outputId": "49bd4e5e-a6f7-4cfd-c3d8-810295f10999"
      },
      "source": [
        "import yfinance as yf\n",
        "import numpy as np\n",
        "import matplotlib.pyplot as plt\n",
        "import pandas as pd\n",
        "import tensorflow as tf\n",
        "from datetime import date, datetime\n",
        "from tqdm import tqdm\n",
        "from pytrends.request import TrendReq\n",
        "\n",
        "print(tf.__version__)"
      ],
      "execution_count": 3,
      "outputs": [
        {
          "output_type": "stream",
          "text": [
            "2.3.0\n"
          ],
          "name": "stdout"
        }
      ]
    },
    {
      "cell_type": "code",
      "metadata": {
        "id": "CqjA_6EhZ_Yn",
        "colab_type": "code",
        "colab": {}
      },
      "source": [
        "start_date = '2014-09-17' #first BTC avail data\n",
        "end_date = str(date.today())\n",
        "\n",
        "train_split_ratio = 0.99\n",
        "window_size = 7\n",
        "\n",
        "num_epochs = 200\n",
        "batch_size = 32\n"
      ],
      "execution_count": 4,
      "outputs": []
    },
    {
      "cell_type": "code",
      "metadata": {
        "id": "KTvks9kuCPed",
        "colab_type": "code",
        "colab": {}
      },
      "source": [
        "#FinData\n",
        "btc = yf.Ticker(\"BTC-USD\").history(start=start_date, end=end_date)\n",
        "eth = yf.Ticker(\"ETH-USD\").history(start=start_date, end=end_date)\n",
        "dow = yf.Ticker(\"^DJI\").history(start=start_date, end=end_date)\n",
        "gold = yf.Ticker(\"GC=F\").history(start=start_date, end=end_date)\n",
        "\n",
        "#TrendData\n",
        "pytrend = TrendReq()\n",
        "pytrend.build_payload(kw_list=['Bitcoin'])\n",
        "google_trends = pytrend.interest_over_time()\n"
      ],
      "execution_count": 5,
      "outputs": []
    },
    {
      "cell_type": "code",
      "metadata": {
        "id": "8eEMiio1gItM",
        "colab_type": "code",
        "colab": {}
      },
      "source": [
        "FinData = pd.DataFrame()\n",
        "FinData['BTC'] = btc['Open']\n",
        "FinData['BTC_var']= abs(btc['Close']-btc['Open']).div(btc['Open'])\n",
        "FinData['BTC_trend']= google_trends['Bitcoin']\n",
        "FinData['ETH'] = eth['Open']\n",
        "FinData['ETH_var']= abs(eth['Close']-eth['Open']).div(eth['Open'])\n",
        "FinData['Gold'] = gold['Open']\n",
        "FinData['Gold_var']= abs(gold['Close']-gold['Open']).div(gold['Open'])\n",
        "FinData['Dow'] = dow['Open']\n",
        "FinData['Dow_var']= abs(dow['Close']-dow['Open']).div(dow['Open'])\n",
        "FinData['BTC_vol'] = btc['Volume']\n",
        "FinData['Gold_vol'] = gold['Volume']\n",
        "FinData['Dow_vol'] = dow['Volume']\n",
        "FinData = FinData.interpolate() #fill missing values\n",
        "FinData = FinData.fillna(method='backfill')\n",
        "normalized_findata= (FinData-FinData.min())/(FinData.max()-FinData.min())\n",
        "normalized_findata['Date'] = FinData.index.to_frame().subtract(datetime.strptime(start_date, '%Y-%m-%d')).div(86400000000000).astype(int)"
      ],
      "execution_count": 6,
      "outputs": []
    },
    {
      "cell_type": "code",
      "metadata": {
        "id": "XxHWzjurBKZ6",
        "colab_type": "code",
        "colab": {
          "base_uri": "https://localhost:8080/",
          "height": 436
        },
        "outputId": "1c78c2c3-13e8-4977-8263-e47436af2dc5"
      },
      "source": [
        "normalized_findata"
      ],
      "execution_count": 7,
      "outputs": [
        {
          "output_type": "execute_result",
          "data": {
            "text/html": [
              "<div>\n",
              "<style scoped>\n",
              "    .dataframe tbody tr th:only-of-type {\n",
              "        vertical-align: middle;\n",
              "    }\n",
              "\n",
              "    .dataframe tbody tr th {\n",
              "        vertical-align: top;\n",
              "    }\n",
              "\n",
              "    .dataframe thead th {\n",
              "        text-align: right;\n",
              "    }\n",
              "</style>\n",
              "<table border=\"1\" class=\"dataframe\">\n",
              "  <thead>\n",
              "    <tr style=\"text-align: right;\">\n",
              "      <th></th>\n",
              "      <th>BTC</th>\n",
              "      <th>BTC_var</th>\n",
              "      <th>BTC_trend</th>\n",
              "      <th>ETH</th>\n",
              "      <th>ETH_var</th>\n",
              "      <th>Gold</th>\n",
              "      <th>Gold_var</th>\n",
              "      <th>Dow</th>\n",
              "      <th>Dow_var</th>\n",
              "      <th>BTC_vol</th>\n",
              "      <th>Gold_vol</th>\n",
              "      <th>Dow_vol</th>\n",
              "      <th>Date</th>\n",
              "    </tr>\n",
              "    <tr>\n",
              "      <th>Date</th>\n",
              "      <th></th>\n",
              "      <th></th>\n",
              "      <th></th>\n",
              "      <th></th>\n",
              "      <th></th>\n",
              "      <th></th>\n",
              "      <th></th>\n",
              "      <th></th>\n",
              "      <th></th>\n",
              "      <th></th>\n",
              "      <th></th>\n",
              "      <th></th>\n",
              "      <th></th>\n",
              "    </tr>\n",
              "  </thead>\n",
              "  <tbody>\n",
              "    <tr>\n",
              "      <th>2014-09-17</th>\n",
              "      <td>0.014973</td>\n",
              "      <td>0.049238</td>\n",
              "      <td>0.000000</td>\n",
              "      <td>0.001718</td>\n",
              "      <td>0.028996</td>\n",
              "      <td>0.184009</td>\n",
              "      <td>0.027461</td>\n",
              "      <td>0.105691</td>\n",
              "      <td>0.027331</td>\n",
              "      <td>0.000204</td>\n",
              "      <td>0.000003</td>\n",
              "      <td>0.022070</td>\n",
              "      <td>0</td>\n",
              "    </tr>\n",
              "    <tr>\n",
              "      <th>2014-09-18</th>\n",
              "      <td>0.014507</td>\n",
              "      <td>0.190827</td>\n",
              "      <td>0.000000</td>\n",
              "      <td>0.001718</td>\n",
              "      <td>0.028996</td>\n",
              "      <td>0.163844</td>\n",
              "      <td>0.147315</td>\n",
              "      <td>0.108068</td>\n",
              "      <td>0.108017</td>\n",
              "      <td>0.000385</td>\n",
              "      <td>0.000002</td>\n",
              "      <td>0.020903</td>\n",
              "      <td>1</td>\n",
              "    </tr>\n",
              "    <tr>\n",
              "      <th>2014-09-19</th>\n",
              "      <td>0.012809</td>\n",
              "      <td>0.185784</td>\n",
              "      <td>0.000000</td>\n",
              "      <td>0.001718</td>\n",
              "      <td>0.028996</td>\n",
              "      <td>0.165961</td>\n",
              "      <td>0.046440</td>\n",
              "      <td>0.115586</td>\n",
              "      <td>0.013138</td>\n",
              "      <td>0.000432</td>\n",
              "      <td>0.000001</td>\n",
              "      <td>0.143816</td>\n",
              "      <td>2</td>\n",
              "    </tr>\n",
              "    <tr>\n",
              "      <th>2014-09-20</th>\n",
              "      <td>0.011284</td>\n",
              "      <td>0.096957</td>\n",
              "      <td>0.000000</td>\n",
              "      <td>0.001718</td>\n",
              "      <td>0.028996</td>\n",
              "      <td>0.164818</td>\n",
              "      <td>0.040792</td>\n",
              "      <td>0.115695</td>\n",
              "      <td>0.043409</td>\n",
              "      <td>0.000417</td>\n",
              "      <td>0.000002</td>\n",
              "      <td>0.101140</td>\n",
              "      <td>3</td>\n",
              "    </tr>\n",
              "    <tr>\n",
              "      <th>2014-09-21</th>\n",
              "      <td>0.011979</td>\n",
              "      <td>0.061020</td>\n",
              "      <td>0.000000</td>\n",
              "      <td>0.001718</td>\n",
              "      <td>0.028996</td>\n",
              "      <td>0.163675</td>\n",
              "      <td>0.035143</td>\n",
              "      <td>0.115804</td>\n",
              "      <td>0.073680</td>\n",
              "      <td>0.000279</td>\n",
              "      <td>0.000002</td>\n",
              "      <td>0.058463</td>\n",
              "      <td>4</td>\n",
              "    </tr>\n",
              "    <tr>\n",
              "      <th>...</th>\n",
              "      <td>...</td>\n",
              "      <td>...</td>\n",
              "      <td>...</td>\n",
              "      <td>...</td>\n",
              "      <td>...</td>\n",
              "      <td>...</td>\n",
              "      <td>...</td>\n",
              "      <td>...</td>\n",
              "      <td>...</td>\n",
              "      <td>...</td>\n",
              "      <td>...</td>\n",
              "      <td>...</td>\n",
              "      <td>...</td>\n",
              "    </tr>\n",
              "    <tr>\n",
              "      <th>2020-09-04</th>\n",
              "      <td>0.520935</td>\n",
              "      <td>0.073978</td>\n",
              "      <td>0.102041</td>\n",
              "      <td>0.275037</td>\n",
              "      <td>0.012693</td>\n",
              "      <td>0.881428</td>\n",
              "      <td>0.039129</td>\n",
              "      <td>0.920125</td>\n",
              "      <td>0.132898</td>\n",
              "      <td>0.404031</td>\n",
              "      <td>0.000055</td>\n",
              "      <td>0.304256</td>\n",
              "      <td>2179</td>\n",
              "    </tr>\n",
              "    <tr>\n",
              "      <th>2020-09-05</th>\n",
              "      <td>0.535555</td>\n",
              "      <td>0.087730</td>\n",
              "      <td>0.102041</td>\n",
              "      <td>0.277449</td>\n",
              "      <td>0.186023</td>\n",
              "      <td>0.881428</td>\n",
              "      <td>0.039129</td>\n",
              "      <td>0.920125</td>\n",
              "      <td>0.132898</td>\n",
              "      <td>0.605666</td>\n",
              "      <td>0.000055</td>\n",
              "      <td>0.304256</td>\n",
              "      <td>2180</td>\n",
              "    </tr>\n",
              "    <tr>\n",
              "      <th>2020-09-06</th>\n",
              "      <td>0.517663</td>\n",
              "      <td>0.029922</td>\n",
              "      <td>0.102041</td>\n",
              "      <td>0.239719</td>\n",
              "      <td>0.073536</td>\n",
              "      <td>0.881428</td>\n",
              "      <td>0.039129</td>\n",
              "      <td>0.920125</td>\n",
              "      <td>0.132898</td>\n",
              "      <td>0.499867</td>\n",
              "      <td>0.000055</td>\n",
              "      <td>0.304256</td>\n",
              "      <td>2181</td>\n",
              "    </tr>\n",
              "    <tr>\n",
              "      <th>2020-09-07</th>\n",
              "      <td>0.523558</td>\n",
              "      <td>0.023164</td>\n",
              "      <td>0.102041</td>\n",
              "      <td>0.252690</td>\n",
              "      <td>0.003018</td>\n",
              "      <td>0.881428</td>\n",
              "      <td>0.039129</td>\n",
              "      <td>0.920125</td>\n",
              "      <td>0.132898</td>\n",
              "      <td>0.454441</td>\n",
              "      <td>0.000055</td>\n",
              "      <td>0.304256</td>\n",
              "      <td>2182</td>\n",
              "    </tr>\n",
              "    <tr>\n",
              "      <th>2020-09-08</th>\n",
              "      <td>0.528676</td>\n",
              "      <td>0.019270</td>\n",
              "      <td>0.102041</td>\n",
              "      <td>0.253291</td>\n",
              "      <td>0.020923</td>\n",
              "      <td>0.881428</td>\n",
              "      <td>0.039129</td>\n",
              "      <td>0.920125</td>\n",
              "      <td>0.132898</td>\n",
              "      <td>0.436559</td>\n",
              "      <td>0.000055</td>\n",
              "      <td>0.304256</td>\n",
              "      <td>2183</td>\n",
              "    </tr>\n",
              "  </tbody>\n",
              "</table>\n",
              "<p>2183 rows × 13 columns</p>\n",
              "</div>"
            ],
            "text/plain": [
              "                 BTC   BTC_var  BTC_trend  ...  Gold_vol   Dow_vol  Date\n",
              "Date                                       ...                          \n",
              "2014-09-17  0.014973  0.049238   0.000000  ...  0.000003  0.022070     0\n",
              "2014-09-18  0.014507  0.190827   0.000000  ...  0.000002  0.020903     1\n",
              "2014-09-19  0.012809  0.185784   0.000000  ...  0.000001  0.143816     2\n",
              "2014-09-20  0.011284  0.096957   0.000000  ...  0.000002  0.101140     3\n",
              "2014-09-21  0.011979  0.061020   0.000000  ...  0.000002  0.058463     4\n",
              "...              ...       ...        ...  ...       ...       ...   ...\n",
              "2020-09-04  0.520935  0.073978   0.102041  ...  0.000055  0.304256  2179\n",
              "2020-09-05  0.535555  0.087730   0.102041  ...  0.000055  0.304256  2180\n",
              "2020-09-06  0.517663  0.029922   0.102041  ...  0.000055  0.304256  2181\n",
              "2020-09-07  0.523558  0.023164   0.102041  ...  0.000055  0.304256  2182\n",
              "2020-09-08  0.528676  0.019270   0.102041  ...  0.000055  0.304256  2183\n",
              "\n",
              "[2183 rows x 13 columns]"
            ]
          },
          "metadata": {
            "tags": []
          },
          "execution_count": 7
        }
      ]
    },
    {
      "cell_type": "code",
      "metadata": {
        "id": "c7zOS3qRVm0Y",
        "colab_type": "code",
        "colab": {}
      },
      "source": [
        "time = normalized_findata['Date']\n",
        "normalized_findata = normalized_findata.loc[:,:'Dow_vol']"
      ],
      "execution_count": 8,
      "outputs": []
    },
    {
      "cell_type": "code",
      "metadata": {
        "colab_type": "code",
        "id": "sLl52leVp5wU",
        "colab": {}
      },
      "source": [
        "def plot_series(time, series, format=\"-\", start=0, end=None):\n",
        "    plt.plot(time[start:end], series[start:end], format)\n",
        "    plt.xlabel(\"Time\")\n",
        "    plt.ylabel(\"Value\")\n",
        "    plt.grid(True)"
      ],
      "execution_count": 9,
      "outputs": []
    },
    {
      "cell_type": "code",
      "metadata": {
        "id": "Q-8Fx5D_V_Q8",
        "colab_type": "code",
        "colab": {
          "base_uri": "https://localhost:8080/",
          "height": 387
        },
        "outputId": "ffedcb8b-f56c-4460-d718-c1cab8663db1"
      },
      "source": [
        "\n",
        "plt.figure(figsize=(10, 6))\n",
        "plot_series(time, normalized_findata.loc[:,:'BTC_trend'])"
      ],
      "execution_count": 10,
      "outputs": [
        {
          "output_type": "display_data",
          "data": {
            "image/png": "[encoded data removed]",
            "text/plain": [
              "<Figure size 720x432 with 1 Axes>"
            ]
          },
          "metadata": {
            "tags": [],
            "needs_background": "light"
          }
        }
      ]
    },
    {
      "cell_type": "code",
      "metadata": {
        "id": "H0DSfm4dFBhx",
        "colab_type": "code",
        "colab": {
          "base_uri": "https://localhost:8080/",
          "height": 105
        },
        "outputId": "77b0f0b4-8178-4c9b-9c35-cb9fca7d8410"
      },
      "source": [
        "n = len(normalized_findata)\n",
        "train_df = normalized_findata[0:int(n*train_split_ratio)]\n",
        "val_df = normalized_findata[int(n*train_split_ratio):int(n*(1-((1-train_split_ratio)/2)))]\n",
        "test_df = normalized_findata[int(n*(1-((1-train_split_ratio)/2))):]\n",
        "\n",
        "num_features = normalized_findata.shape[1]\n",
        "print(num_features)\n",
        "print(n)\n",
        "print(len(train_df))\n",
        "print(len(val_df))\n",
        "print(len(test_df))"
      ],
      "execution_count": 11,
      "outputs": [
        {
          "output_type": "stream",
          "text": [
            "12\n",
            "2183\n",
            "2161\n",
            "11\n",
            "11\n"
          ],
          "name": "stdout"
        }
      ]
    },
    {
      "cell_type": "code",
      "metadata": {
        "id": "Vo_kSWeMGMmi",
        "colab_type": "code",
        "colab": {
          "base_uri": "https://localhost:8080/",
          "height": 227
        },
        "outputId": "98991fb5-6a21-4510-a152-97b4869b4202"
      },
      "source": [
        "train_df.head()"
      ],
      "execution_count": 12,
      "outputs": [
        {
          "output_type": "execute_result",
          "data": {
            "text/html": [
              "<div>\n",
              "<style scoped>\n",
              "    .dataframe tbody tr th:only-of-type {\n",
              "        vertical-align: middle;\n",
              "    }\n",
              "\n",
              "    .dataframe tbody tr th {\n",
              "        vertical-align: top;\n",
              "    }\n",
              "\n",
              "    .dataframe thead th {\n",
              "        text-align: right;\n",
              "    }\n",
              "</style>\n",
              "<table border=\"1\" class=\"dataframe\">\n",
              "  <thead>\n",
              "    <tr style=\"text-align: right;\">\n",
              "      <th></th>\n",
              "      <th>BTC</th>\n",
              "      <th>BTC_var</th>\n",
              "      <th>BTC_trend</th>\n",
              "      <th>ETH</th>\n",
              "      <th>ETH_var</th>\n",
              "      <th>Gold</th>\n",
              "      <th>Gold_var</th>\n",
              "      <th>Dow</th>\n",
              "      <th>Dow_var</th>\n",
              "      <th>BTC_vol</th>\n",
              "      <th>Gold_vol</th>\n",
              "      <th>Dow_vol</th>\n",
              "    </tr>\n",
              "    <tr>\n",
              "      <th>Date</th>\n",
              "      <th></th>\n",
              "      <th></th>\n",
              "      <th></th>\n",
              "      <th></th>\n",
              "      <th></th>\n",
              "      <th></th>\n",
              "      <th></th>\n",
              "      <th></th>\n",
              "      <th></th>\n",
              "      <th></th>\n",
              "      <th></th>\n",
              "      <th></th>\n",
              "    </tr>\n",
              "  </thead>\n",
              "  <tbody>\n",
              "    <tr>\n",
              "      <th>2014-09-17</th>\n",
              "      <td>0.014973</td>\n",
              "      <td>0.049238</td>\n",
              "      <td>0.0</td>\n",
              "      <td>0.001718</td>\n",
              "      <td>0.028996</td>\n",
              "      <td>0.184009</td>\n",
              "      <td>0.027461</td>\n",
              "      <td>0.105691</td>\n",
              "      <td>0.027331</td>\n",
              "      <td>0.000204</td>\n",
              "      <td>0.000003</td>\n",
              "      <td>0.022070</td>\n",
              "    </tr>\n",
              "    <tr>\n",
              "      <th>2014-09-18</th>\n",
              "      <td>0.014507</td>\n",
              "      <td>0.190827</td>\n",
              "      <td>0.0</td>\n",
              "      <td>0.001718</td>\n",
              "      <td>0.028996</td>\n",
              "      <td>0.163844</td>\n",
              "      <td>0.147315</td>\n",
              "      <td>0.108068</td>\n",
              "      <td>0.108017</td>\n",
              "      <td>0.000385</td>\n",
              "      <td>0.000002</td>\n",
              "      <td>0.020903</td>\n",
              "    </tr>\n",
              "    <tr>\n",
              "      <th>2014-09-19</th>\n",
              "      <td>0.012809</td>\n",
              "      <td>0.185784</td>\n",
              "      <td>0.0</td>\n",
              "      <td>0.001718</td>\n",
              "      <td>0.028996</td>\n",
              "      <td>0.165961</td>\n",
              "      <td>0.046440</td>\n",
              "      <td>0.115586</td>\n",
              "      <td>0.013138</td>\n",
              "      <td>0.000432</td>\n",
              "      <td>0.000001</td>\n",
              "      <td>0.143816</td>\n",
              "    </tr>\n",
              "    <tr>\n",
              "      <th>2014-09-20</th>\n",
              "      <td>0.011284</td>\n",
              "      <td>0.096957</td>\n",
              "      <td>0.0</td>\n",
              "      <td>0.001718</td>\n",
              "      <td>0.028996</td>\n",
              "      <td>0.164818</td>\n",
              "      <td>0.040792</td>\n",
              "      <td>0.115695</td>\n",
              "      <td>0.043409</td>\n",
              "      <td>0.000417</td>\n",
              "      <td>0.000002</td>\n",
              "      <td>0.101140</td>\n",
              "    </tr>\n",
              "    <tr>\n",
              "      <th>2014-09-21</th>\n",
              "      <td>0.011979</td>\n",
              "      <td>0.061020</td>\n",
              "      <td>0.0</td>\n",
              "      <td>0.001718</td>\n",
              "      <td>0.028996</td>\n",
              "      <td>0.163675</td>\n",
              "      <td>0.035143</td>\n",
              "      <td>0.115804</td>\n",
              "      <td>0.073680</td>\n",
              "      <td>0.000279</td>\n",
              "      <td>0.000002</td>\n",
              "      <td>0.058463</td>\n",
              "    </tr>\n",
              "  </tbody>\n",
              "</table>\n",
              "</div>"
            ],
            "text/plain": [
              "                 BTC   BTC_var  BTC_trend  ...   BTC_vol  Gold_vol   Dow_vol\n",
              "Date                                       ...                              \n",
              "2014-09-17  0.014973  0.049238        0.0  ...  0.000204  0.000003  0.022070\n",
              "2014-09-18  0.014507  0.190827        0.0  ...  0.000385  0.000002  0.020903\n",
              "2014-09-19  0.012809  0.185784        0.0  ...  0.000432  0.000001  0.143816\n",
              "2014-09-20  0.011284  0.096957        0.0  ...  0.000417  0.000002  0.101140\n",
              "2014-09-21  0.011979  0.061020        0.0  ...  0.000279  0.000002  0.058463\n",
              "\n",
              "[5 rows x 12 columns]"
            ]
          },
          "metadata": {
            "tags": []
          },
          "execution_count": 12
        }
      ]
    },
    {
      "cell_type": "code",
      "metadata": {
        "id": "-0smBunIExgq",
        "colab_type": "code",
        "colab": {}
      },
      "source": [
        "class WindowGenerator():\n",
        "  def __init__(self, input_width, label_width, shift,\n",
        "               train_df=train_df, val_df=val_df, test_df=test_df,\n",
        "               label_columns=None):\n",
        "    # Store the raw data.\n",
        "    self.train_df = train_df\n",
        "    self.val_df = val_df\n",
        "    self.test_df = test_df\n",
        "\n",
        "    # Work out the label column indices.\n",
        "    self.label_columns = label_columns\n",
        "    if label_columns is not None:\n",
        "      self.label_columns_indices = {name: i for i, name in\n",
        "                                    enumerate(label_columns)}\n",
        "    self.column_indices = {name: i for i, name in\n",
        "                           enumerate(train_df.columns)}\n",
        "\n",
        "    # Work out the window parameters.\n",
        "    self.input_width = input_width\n",
        "    self.label_width = label_width\n",
        "    self.shift = shift\n",
        "\n",
        "    self.total_window_size = input_width + shift\n",
        "\n",
        "    self.input_slice = slice(0, input_width)\n",
        "    self.input_indices = np.arange(self.total_window_size)[self.input_slice]\n",
        "\n",
        "    self.label_start = self.total_window_size - self.label_width\n",
        "    self.labels_slice = slice(self.label_start, None)\n",
        "    self.label_indices = np.arange(self.total_window_size)[self.labels_slice]\n",
        "\n",
        "  def __repr__(self):\n",
        "    return '\\n'.join([\n",
        "        f'Total window size: {self.total_window_size}',\n",
        "        f'Input indices: {self.input_indices}',\n",
        "        f'Label indices: {self.label_indices}',\n",
        "        f'Label column name(s): {self.label_columns}',\n",
        "        f'column name(s): {self.column_indices}',\n",
        "        f'label column indice(s): {self.label_columns_indices}'\n",
        "        ])"
      ],
      "execution_count": 13,
      "outputs": []
    },
    {
      "cell_type": "code",
      "metadata": {
        "id": "a3y1WEDSHIvo",
        "colab_type": "code",
        "colab": {
          "base_uri": "https://localhost:8080/",
          "height": 123
        },
        "outputId": "a4a5284a-4831-437f-b3f1-21a1d764e43b"
      },
      "source": [
        "window = WindowGenerator(input_width=window_size, label_width=1, shift=1, label_columns=['BTC'])\n",
        "window"
      ],
      "execution_count": 14,
      "outputs": [
        {
          "output_type": "execute_result",
          "data": {
            "text/plain": [
              "Total window size: 8\n",
              "Input indices: [0 1 2 3 4 5 6]\n",
              "Label indices: [7]\n",
              "Label column name(s): ['BTC']\n",
              "column name(s): {'BTC': 0, 'BTC_var': 1, 'BTC_trend': 2, 'ETH': 3, 'ETH_var': 4, 'Gold': 5, 'Gold_var': 6, 'Dow': 7, 'Dow_var': 8, 'BTC_vol': 9, 'Gold_vol': 10, 'Dow_vol': 11}\n",
              "label column indice(s): {'BTC': 0}"
            ]
          },
          "metadata": {
            "tags": []
          },
          "execution_count": 14
        }
      ]
    },
    {
      "cell_type": "code",
      "metadata": {
        "id": "iKlqYA59JSLA",
        "colab_type": "code",
        "colab": {}
      },
      "source": [
        "def split_window(self, features):\n",
        "  inputs = features[:, self.input_slice, :]\n",
        "  labels = features[:, self.labels_slice, :]\n",
        "  if self.label_columns is not None:\n",
        "    labels = tf.stack(\n",
        "        [labels[:, :, self.column_indices[name]] for name in self.label_columns],\n",
        "        axis=-1)\n",
        "\n",
        "  # Slicing doesn't preserve static shape information, so set the shapes\n",
        "  # manually. This way the `tf.data.Datasets` are easier to inspect.\n",
        "  inputs.set_shape([None, self.input_width, None])\n",
        "  labels.set_shape([None, self.label_width, None])\n",
        "\n",
        "  return inputs, labels\n",
        "\n",
        "WindowGenerator.split_window = split_window"
      ],
      "execution_count": 15,
      "outputs": []
    },
    {
      "cell_type": "code",
      "metadata": {
        "id": "PdGjsMnwgKpo",
        "colab_type": "code",
        "colab": {
          "base_uri": "https://localhost:8080/",
          "height": 87
        },
        "outputId": "da740804-aee8-4f0b-da61-47f9ead2f3ba"
      },
      "source": [
        "# Stack three slices, the length of the total window:\n",
        "example_window = tf.stack([np.array(train_df[:window.total_window_size]),\n",
        "                           np.array(train_df[100:100+window.total_window_size]),\n",
        "                           np.array(train_df[200:200+window.total_window_size])])\n",
        "\n",
        "\n",
        "example_inputs, example_labels = window.split_window(example_window)\n",
        "\n",
        "print('All shapes are: (batch, time, features)')\n",
        "print(f'Window shape: {example_window.shape}')\n",
        "print(f'Inputs shape: {example_inputs.shape}')\n",
        "print(f'labels shape: {example_labels.shape}')"
      ],
      "execution_count": 16,
      "outputs": [
        {
          "output_type": "stream",
          "text": [
            "All shapes are: (batch, time, features)\n",
            "Window shape: (3, 8, 12)\n",
            "Inputs shape: (3, 7, 12)\n",
            "labels shape: (3, 1, 1)\n"
          ],
          "name": "stdout"
        }
      ]
    },
    {
      "cell_type": "code",
      "metadata": {
        "id": "HhJV7nGGt2h7",
        "colab_type": "code",
        "colab": {}
      },
      "source": [
        "window.example = example_inputs, example_labels"
      ],
      "execution_count": 17,
      "outputs": []
    },
    {
      "cell_type": "code",
      "metadata": {
        "id": "EJ4bjY6rt57Q",
        "colab_type": "code",
        "colab": {}
      },
      "source": [
        "def plot(self, model=None, plot_col='BTC', max_subplots=3):\n",
        "  inputs, labels = self.example\n",
        "  plt.figure(figsize=(12, 8))\n",
        "  plot_col_index = self.column_indices[plot_col]\n",
        "  max_n = min(max_subplots, len(inputs))\n",
        "  for n in range(max_n):\n",
        "    plt.subplot(3, 1, n+1)\n",
        "    plt.ylabel(f'{plot_col} [normed]')\n",
        "    plt.plot(self.input_indices, inputs[n, :, plot_col_index],\n",
        "             label='Inputs', marker='.', zorder=-10)\n",
        "\n",
        "    if self.label_columns:\n",
        "      label_col_index = self.label_columns_indices.get(plot_col, None)\n",
        "    else:\n",
        "      label_col_index = plot_col_index\n",
        "\n",
        "    if label_col_index is None:\n",
        "      continue\n",
        "\n",
        "    plt.scatter(self.label_indices, labels[n, :, label_col_index],\n",
        "                edgecolors='k', label='Labels', c='#2ca02c', s=64)\n",
        "    if model is not None:\n",
        "        predictions = model(inputs)\n",
        "        plt.scatter(self.label_indices, predictions[n, label_col_index], marker='X', edgecolors='k', label='Predictions', c='#ff7f0e', s=64)\n",
        "\n",
        "    if n == 0:\n",
        "      plt.legend()\n",
        "\n",
        "  plt.xlabel('Time [day]')\n",
        "\n",
        "WindowGenerator.plot = plot"
      ],
      "execution_count": 18,
      "outputs": []
    },
    {
      "cell_type": "code",
      "metadata": {
        "id": "l0TZHtC6t88w",
        "colab_type": "code",
        "colab": {
          "base_uri": "https://localhost:8080/",
          "height": 496
        },
        "outputId": "13c73e4c-af49-48cc-ddc0-4363084efb9c"
      },
      "source": [
        "window.plot()"
      ],
      "execution_count": 19,
      "outputs": [
        {
          "output_type": "display_data",
          "data": {
            "image/png": "[encoded data removed]",
            "text/plain": [
              "<Figure size 864x576 with 3 Axes>"
            ]
          },
          "metadata": {
            "tags": [],
            "needs_background": "light"
          }
        }
      ]
    },
    {
      "cell_type": "code",
      "metadata": {
        "id": "7yEOKPaYuRhC",
        "colab_type": "code",
        "colab": {}
      },
      "source": [
        "def make_dataset(self, data):\n",
        "  data = np.array(data, dtype=np.float32)\n",
        "  ds = tf.keras.preprocessing.timeseries_dataset_from_array(\n",
        "      data=data,\n",
        "      targets=None,\n",
        "      sequence_length=self.total_window_size,\n",
        "      sequence_stride=1,\n",
        "      shuffle=True,\n",
        "      batch_size=batch_size,)\n",
        "\n",
        "  ds = ds.map(self.split_window)\n",
        "\n",
        "  return ds\n",
        "\n",
        "WindowGenerator.make_dataset = make_dataset"
      ],
      "execution_count": 20,
      "outputs": []
    },
    {
      "cell_type": "code",
      "metadata": {
        "id": "6UL2xgbbucxN",
        "colab_type": "code",
        "colab": {}
      },
      "source": [
        "@property\n",
        "def train(self):\n",
        "  return self.make_dataset(self.train_df)\n",
        "\n",
        "@property\n",
        "def val(self):\n",
        "  return self.make_dataset(self.val_df)\n",
        "\n",
        "@property\n",
        "def test(self):\n",
        "  return self.make_dataset(self.test_df)\n",
        "\n",
        "@property\n",
        "def example(self):\n",
        "  \"\"\"Get and cache an example batch of `inputs, labels` for plotting.\"\"\"\n",
        "  result = getattr(self, '_example', None)\n",
        "  if result is None:\n",
        "    # No example batch was found, so get one from the `.train` dataset\n",
        "    result = next(iter(self.train))\n",
        "    # And cache it for next time\n",
        "    self._example = result\n",
        "  return result\n",
        "\n",
        "WindowGenerator.train = train\n",
        "WindowGenerator.val = val\n",
        "WindowGenerator.test = test\n",
        "WindowGenerator.example = example"
      ],
      "execution_count": 21,
      "outputs": []
    },
    {
      "cell_type": "code",
      "metadata": {
        "id": "npJjxTMQumH-",
        "colab_type": "code",
        "colab": {
          "base_uri": "https://localhost:8080/",
          "height": 52
        },
        "outputId": "ca06f30b-ce30-4533-b711-ad2411bb1846"
      },
      "source": [
        "# Each element is an (inputs, label) pair\n",
        "window.train.element_spec"
      ],
      "execution_count": 22,
      "outputs": [
        {
          "output_type": "execute_result",
          "data": {
            "text/plain": [
              "(TensorSpec(shape=(None, 7, 12), dtype=tf.float32, name=None),\n",
              " TensorSpec(shape=(None, 1, 1), dtype=tf.float32, name=None))"
            ]
          },
          "metadata": {
            "tags": []
          },
          "execution_count": 22
        }
      ]
    },
    {
      "cell_type": "code",
      "metadata": {
        "id": "F-hfVo6LxTag",
        "colab_type": "code",
        "colab": {
          "base_uri": "https://localhost:8080/",
          "height": 976
        },
        "outputId": "9e3507d0-b3d7-4ab6-bba4-abdbf0c625fa"
      },
      "source": [
        "tf.keras.backend.clear_session()\n",
        "tf.random.set_seed(51)\n",
        "np.random.seed(51)\n",
        "\n",
        "model = tf.keras.models.Sequential([\n",
        "# Shape [batch, time, features] => [batch, time, lstm_units]\n",
        "  tf.keras.layers.LSTM(window_size,input_shape=[None, num_features], return_sequences=True),\n",
        "  tf.keras.layers.Dropout(0.2),\n",
        "  tf.keras.layers.LSTM(window_size),\n",
        "  tf.keras.layers.Dense(window_size, activation=\"relu\"),\n",
        "  tf.keras.layers.Dense(1)\n",
        "])\n",
        "\n",
        "patience=10\n",
        "early_stopping = tf.keras.callbacks.EarlyStopping(monitor='val_loss',\n",
        "                                                    patience=patience,\n",
        "                                                    mode='min')\n",
        "lr_schedule = tf.keras.callbacks.LearningRateScheduler(\n",
        "    lambda epoch: 1e-8 * 10**(epoch / 20))\n",
        "model.compile(loss=tf.losses.MeanAbsoluteError(),\n",
        "              optimizer=tf.optimizers.RMSprop(),\n",
        "              metrics=[\"mae\"])\n",
        "history = model.fit(window.train, epochs=num_epochs, validation_data=window.val, callbacks=[early_stopping])\n",
        "\n"
      ],
      "execution_count": 23,
      "outputs": [
        {
          "output_type": "stream",
          "text": [
            "Epoch 1/200\n",
            "68/68 [==============================] - 1s 16ms/step - loss: 0.0923 - mae: 0.0923 - val_loss: 0.0517 - val_mae: 0.0517\n",
            "Epoch 2/200\n",
            "68/68 [==============================] - 1s 8ms/step - loss: 0.0339 - mae: 0.0339 - val_loss: 0.0560 - val_mae: 0.0560\n",
            "Epoch 3/200\n",
            "68/68 [==============================] - 1s 8ms/step - loss: 0.0287 - mae: 0.0287 - val_loss: 0.0427 - val_mae: 0.0427\n",
            "Epoch 4/200\n",
            "68/68 [==============================] - 0s 7ms/step - loss: 0.0269 - mae: 0.0269 - val_loss: 0.0616 - val_mae: 0.0616\n",
            "Epoch 5/200\n",
            "68/68 [==============================] - 0s 7ms/step - loss: 0.0246 - mae: 0.0246 - val_loss: 0.0237 - val_mae: 0.0237\n",
            "Epoch 6/200\n",
            "68/68 [==============================] - 1s 9ms/step - loss: 0.0239 - mae: 0.0239 - val_loss: 0.0454 - val_mae: 0.0454\n",
            "Epoch 7/200\n",
            "68/68 [==============================] - 1s 8ms/step - loss: 0.0223 - mae: 0.0223 - val_loss: 0.0123 - val_mae: 0.0123\n",
            "Epoch 8/200\n",
            "68/68 [==============================] - 1s 9ms/step - loss: 0.0214 - mae: 0.0214 - val_loss: 0.0104 - val_mae: 0.0104\n",
            "Epoch 9/200\n",
            "68/68 [==============================] - 1s 9ms/step - loss: 0.0215 - mae: 0.0215 - val_loss: 0.0599 - val_mae: 0.0599\n",
            "Epoch 10/200\n",
            "68/68 [==============================] - 1s 8ms/step - loss: 0.0213 - mae: 0.0213 - val_loss: 0.0121 - val_mae: 0.0121\n",
            "Epoch 11/200\n",
            "68/68 [==============================] - 0s 7ms/step - loss: 0.0207 - mae: 0.0207 - val_loss: 0.0248 - val_mae: 0.0248\n",
            "Epoch 12/200\n",
            "68/68 [==============================] - 1s 8ms/step - loss: 0.0206 - mae: 0.0206 - val_loss: 0.0117 - val_mae: 0.0117\n",
            "Epoch 13/200\n",
            "68/68 [==============================] - 0s 7ms/step - loss: 0.0203 - mae: 0.0203 - val_loss: 0.0172 - val_mae: 0.0172\n",
            "Epoch 14/200\n",
            "68/68 [==============================] - 0s 7ms/step - loss: 0.0199 - mae: 0.0199 - val_loss: 0.0202 - val_mae: 0.0202\n",
            "Epoch 15/200\n",
            "68/68 [==============================] - 0s 7ms/step - loss: 0.0198 - mae: 0.0198 - val_loss: 0.0212 - val_mae: 0.0212\n",
            "Epoch 16/200\n",
            "68/68 [==============================] - 1s 8ms/step - loss: 0.0195 - mae: 0.0195 - val_loss: 0.0100 - val_mae: 0.0100\n",
            "Epoch 17/200\n",
            "68/68 [==============================] - 1s 8ms/step - loss: 0.0195 - mae: 0.0195 - val_loss: 0.0070 - val_mae: 0.0070\n",
            "Epoch 18/200\n",
            "68/68 [==============================] - 1s 8ms/step - loss: 0.0197 - mae: 0.0197 - val_loss: 0.0113 - val_mae: 0.0113\n",
            "Epoch 19/200\n",
            "68/68 [==============================] - 0s 7ms/step - loss: 0.0195 - mae: 0.0195 - val_loss: 0.0072 - val_mae: 0.0072\n",
            "Epoch 20/200\n",
            "68/68 [==============================] - 0s 7ms/step - loss: 0.0192 - mae: 0.0192 - val_loss: 0.0207 - val_mae: 0.0207\n",
            "Epoch 21/200\n",
            "68/68 [==============================] - 0s 7ms/step - loss: 0.0191 - mae: 0.0191 - val_loss: 0.0296 - val_mae: 0.0296\n",
            "Epoch 22/200\n",
            "68/68 [==============================] - 1s 8ms/step - loss: 0.0189 - mae: 0.0189 - val_loss: 0.0142 - val_mae: 0.0142\n",
            "Epoch 23/200\n",
            "68/68 [==============================] - 1s 8ms/step - loss: 0.0194 - mae: 0.0194 - val_loss: 0.0117 - val_mae: 0.0117\n",
            "Epoch 24/200\n",
            "68/68 [==============================] - 1s 8ms/step - loss: 0.0184 - mae: 0.0184 - val_loss: 0.0228 - val_mae: 0.0228\n",
            "Epoch 25/200\n",
            "68/68 [==============================] - 0s 7ms/step - loss: 0.0183 - mae: 0.0183 - val_loss: 0.0169 - val_mae: 0.0169\n",
            "Epoch 26/200\n",
            "68/68 [==============================] - 0s 7ms/step - loss: 0.0182 - mae: 0.0182 - val_loss: 0.0126 - val_mae: 0.0126\n",
            "Epoch 27/200\n",
            "68/68 [==============================] - 0s 7ms/step - loss: 0.0183 - mae: 0.0183 - val_loss: 0.0171 - val_mae: 0.0171\n"
          ],
          "name": "stdout"
        }
      ]
    },
    {
      "cell_type": "code",
      "metadata": {
        "id": "9RImOwqH2cVK",
        "colab_type": "code",
        "colab": {
          "base_uri": "https://localhost:8080/",
          "height": 34
        },
        "outputId": "0a08ac67-7d22-4376-a874-57f19a7b4ecb"
      },
      "source": [
        "val_performance = model.evaluate(window.val)\n",
        "performance = model.evaluate(window.test, verbose=0)"
      ],
      "execution_count": 24,
      "outputs": [
        {
          "output_type": "stream",
          "text": [
            "1/1 [==============================] - 0s 1ms/step - loss: 0.0171 - mae: 0.0171\n"
          ],
          "name": "stdout"
        }
      ]
    },
    {
      "cell_type": "code",
      "metadata": {
        "id": "TGmYBww69SEA",
        "colab_type": "code",
        "colab": {
          "base_uri": "https://localhost:8080/",
          "height": 423
        },
        "outputId": "144de947-ad8f-44ac-f49d-0419ece0274a"
      },
      "source": [
        "predictions = []\n",
        "data = np.array(normalized_findata)\n",
        "data = np.expand_dims(data, axis=0)\n",
        "for i in tqdm(range(len(normalized_findata)-window_size)):\n",
        "    current_data = data[:,i:i+window_size,:]\n",
        "    pred = model(current_data)\n",
        "    predictions.append(pred)\n",
        "predictions = np.vstack(predictions)\n",
        "\n",
        "predictions = np.squeeze(predictions)\n",
        "resized_predictions = predictions * (FinData['BTC'].max()-FinData['BTC'].min()) + FinData['BTC'].min()\n",
        "\n",
        "print(resized_predictions.shape)\n",
        "plt.figure(figsize=(10, 6))\n",
        "plot_series(time[window_size:], resized_predictions)\n",
        "plot_series(time[window_size:],FinData['BTC'][window_size:])"
      ],
      "execution_count": 25,
      "outputs": [
        {
          "output_type": "stream",
          "text": [
            "100%|██████████| 2176/2176 [00:12<00:00, 172.89it/s]\n"
          ],
          "name": "stderr"
        },
        {
          "output_type": "stream",
          "text": [
            "(2176,)\n"
          ],
          "name": "stdout"
        },
        {
          "output_type": "display_data",
          "data": {
            "image/png": "[encoded data removed]",
            "text/plain": [
              "<Figure size 720x432 with 1 Axes>"
            ]
          },
          "metadata": {
            "tags": [],
            "needs_background": "light"
          }
        }
      ]
    },
    {
      "cell_type": "code",
      "metadata": {
        "id": "MkORqZfsHeba",
        "colab_type": "code",
        "colab": {
          "base_uri": "https://localhost:8080/",
          "height": 52
        },
        "outputId": "477666b0-1e11-4755-eded-74fac034258e"
      },
      "source": [
        "last_BTC_price =  int(FinData['BTC'][-1])\n",
        "predicted_price = int(resized_predictions[-1])\n",
        "print(f'last Opening bitcoin price : {last_BTC_price} USD')\n",
        "print(f'predicted bitcoin price : {predicted_price} USD')"
      ],
      "execution_count": 26,
      "outputs": [
        {
          "output_type": "stream",
          "text": [
            "last Opening bitcoin price : 10379 USD\n",
            "predicted bitcoin price : 10993 USD\n"
          ],
          "name": "stdout"
        }
      ]
    },
    {
      "cell_type": "code",
      "metadata": {
        "id": "5rilOJBzNMvW",
        "colab_type": "code",
        "colab": {}
      },
      "source": [
        "initial_wallet_USD = 10000\n",
        "trading_days = 1000\n",
        "trade_trigger = 0.02"
      ],
      "execution_count": 27,
      "outputs": []
    },
    {
      "cell_type": "code",
      "metadata": {
        "id": "kWyBr8zeXSgZ",
        "colab_type": "code",
        "colab": {
          "base_uri": "https://localhost:8080/",
          "height": 1000
        },
        "outputId": "b217ae5a-0a43-436a-e654-68ca06257d69"
      },
      "source": [
        "\n",
        "wallet_USD = initial_wallet_USD\n",
        "wallet_bitcoin = 0\n",
        "data  = np.array(FinData['BTC'])\n",
        "for i in range(-trading_days,0):\n",
        "    current_price = data[i]\n",
        "    prediction = resized_predictions[i]\n",
        "    if ((prediction > (current_price * (1+trade_trigger))) and (wallet_USD >0)):\n",
        "        print(f\"buying BTC at {current_price}\")\n",
        "        wallet_bitcoin += wallet_USD/current_price\n",
        "        wallet_USD = 0\n",
        "    elif ((prediction < (current_price * (1+trade_trigger)))and (wallet_bitcoin >0)):\n",
        "        print(f\"selling BTC at {current_price}\")\n",
        "        wallet_USD += wallet_bitcoin * current_price\n",
        "        wallet_bitcoin = 0\n",
        "\n",
        "endvalue = wallet_USD + wallet_bitcoin * current_price\n",
        "print(endvalue)\n",
        "ROI = (endvalue - initial_wallet_USD)/initial_wallet_USD * 365 / trading_days * 100\n",
        "print(f'ROI {ROI} %')\n",
        "    "
      ],
      "execution_count": 28,
      "outputs": [
        {
          "output_type": "stream",
          "text": [
            "buying BTC at 15898.0\n",
            "selling BTC at 16163.5\n",
            "buying BTC at 12897.7\n",
            "selling BTC at 14978.2\n",
            "buying BTC at 13453.9\n",
            "selling BTC at 13952.4\n",
            "buying BTC at 11431.1\n",
            "selling BTC at 12889.2\n",
            "buying BTC at 10944.5\n",
            "selling BTC at 11421.7\n",
            "buying BTC at 11174.9\n",
            "selling BTC at 11475.3\n",
            "buying BTC at 10108.2\n",
            "selling BTC at 8271.84\n",
            "buying BTC at 9937.07\n",
            "selling BTC at 10287.7\n",
            "buying BTC at 9796.42\n",
            "selling BTC at 10393.9\n",
            "buying BTC at 9951.44\n",
            "selling BTC at 8619.67\n",
            "buying BTC at 8498.47\n",
            "selling BTC at 7901.09\n",
            "buying BTC at 9052.96\n",
            "selling BTC at 8522.33\n",
            "buying BTC at 8037.08\n",
            "selling BTC at 7500.7\n",
            "buying BTC at 7500.9\n",
            "selling BTC at 7625.97\n",
            "buying BTC at 7632.52\n",
            "selling BTC at 6411.68\n",
            "buying BTC at 6739.21\n",
            "selling BTC at 6739.65\n",
            "buying BTC at 7769.04\n",
            "selling BTC at 6583.43\n",
            "buying BTC at 6422.57\n",
            "selling BTC at 6500.51\n",
            "buying BTC at 6301.07\n",
            "selling BTC at 6486.25\n",
            "buying BTC at 6371.34\n",
            "selling BTC at 6551.52\n",
            "buying BTC at 6755.14\n",
            "selling BTC at 6515.41\n",
            "buying BTC at 6280.91\n",
            "selling BTC at 6371.85\n",
            "buying BTC at 6452.79\n",
            "selling BTC at 6678.75\n",
            "buying BTC at 6553.86\n",
            "selling BTC at 6622.45\n",
            "buying BTC at 6239.25\n",
            "selling BTC at 6601.41\n",
            "buying BTC at 6472.36\n",
            "selling BTC at 6433.38\n",
            "buying BTC at 6386.13\n",
            "selling BTC at 4269.0\n",
            "buying BTC at 4024.46\n",
            "selling BTC at 4200.73\n",
            "buying BTC at 3886.29\n",
            "selling BTC at 3544.76\n",
            "buying BTC at 3819.67\n",
            "selling BTC at 3932.49\n",
            "buying BTC at 3822.38\n",
            "selling BTC at 3866.84\n",
            "buying BTC at 3851.97\n",
            "selling BTC at 4078.58\n",
            "buying BTC at 3674.02\n",
            "selling BTC at 3631.51\n",
            "buying BTC at 3575.08\n",
            "selling BTC at 3671.59\n",
            "buying BTC at 3615.27\n",
            "selling BTC at 3911.66\n",
            "buying BTC at 3807.0\n",
            "selling BTC at 4879.96\n",
            "buying BTC at 5204.11\n",
            "selling BTC at 7203.51\n",
            "buying BTC at 7341.66\n",
            "selling BTC at 8196.92\n",
            "buying BTC at 7677.27\n",
            "selling BTC at 7991.89\n",
            "buying BTC at 8320.29\n",
            "selling BTC at 8573.84\n",
            "buying BTC at 8565.47\n",
            "selling BTC at 8230.9\n",
            "buying BTC at 11162.17\n",
            "selling BTC at 12400.76\n",
            "buying BTC at 10796.93\n",
            "selling BTC at 11972.72\n",
            "buying BTC at 11203.1\n",
            "selling BTC at 11446.6\n",
            "buying BTC at 11354.3\n",
            "selling BTC at 11813.13\n",
            "buying BTC at 11381.02\n",
            "selling BTC at 10653.96\n",
            "buying BTC at 9887.73\n",
            "selling BTC at 10077.44\n",
            "buying BTC at 10889.49\n",
            "selling BTC at 10350.28\n",
            "buying BTC at 10142.52\n",
            "selling BTC at 10407.64\n",
            "buying BTC at 10126.3\n",
            "selling BTC at 10345.73\n",
            "buying BTC at 10123.04\n",
            "selling BTC at 10415.36\n",
            "buying BTC at 10200.5\n",
            "selling BTC at 10067.96\n",
            "buying BTC at 9729.32\n",
            "selling BTC at 8390.77\n",
            "buying BTC at 8259.49\n",
            "selling BTC at 8585.28\n",
            "buying BTC at 8315.67\n",
            "selling BTC at 8667.58\n",
            "buying BTC at 9235.61\n",
            "selling BTC at 9413.0\n",
            "buying BTC at 9265.37\n",
            "selling BTC at 7764.06\n",
            "buying BTC at 7571.62\n",
            "selling BTC at 7508.9\n",
            "buying BTC at 7325.76\n",
            "selling BTC at 8161.94\n",
            "buying BTC at 8082.3\n",
            "selling BTC at 8825.34\n",
            "buying BTC at 8704.63\n",
            "selling BTC at 9357.47\n",
            "buying BTC at 9292.84\n",
            "selling BTC at 9617.82\n",
            "buying BTC at 9889.18\n",
            "selling BTC at 8865.39\n",
            "buying BTC at 8111.15\n",
            "selling BTC at 6191.65\n",
            "buying BTC at 6467.25\n",
            "selling BTC at 6862.54\n",
            "buying BTC at 6788.05\n",
            "selling BTC at 7273.64\n",
            "buying BTC at 6867.44\n",
            "selling BTC at 8797.67\n",
            "buying BTC at 8755.54\n",
            "selling BTC at 9734.29\n",
            "buying BTC at 9080.33\n",
            "selling BTC at 9528.36\n",
            "buying BTC at 9533.76\n",
            "selling BTC at 9533.78\n",
            "buying BTC at 9410.29\n",
            "selling BTC at 9644.08\n",
            "buying BTC at 9632.15\n",
            "selling BTC at 9185.58\n",
            "buying BTC at 9124.84\n",
            "selling BTC at 9349.16\n",
            "buying BTC at 9238.7\n",
            "selling BTC at 9527.14\n",
            "buying BTC at 11043.77\n",
            "selling BTC at 11749.87\n",
            "buying BTC at 11404.6\n",
            "selling BTC at 11866.69\n",
            "buying BTC at 11761.5\n",
            "selling BTC at 11773.59\n",
            "buying BTC at 11366.89\n",
            "selling BTC at 11713.31\n",
            "buying BTC at 11407.19\n",
            "20888.476348868127\n",
            "ROI 39.74293867336867 %\n"
          ],
          "name": "stdout"
        }
      ]
    },
    {
      "cell_type": "code",
      "metadata": {
        "id": "MDFWyqaER9uC",
        "colab_type": "code",
        "colab": {}
      },
      "source": [
        ""
      ],
      "execution_count": 28,
      "outputs": []
    }
  ]
}